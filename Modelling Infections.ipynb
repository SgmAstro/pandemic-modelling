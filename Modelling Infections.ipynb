{
 "cells": [
  {
   "cell_type": "markdown",
   "metadata": {},
   "source": [
    "Modelling Epidemics:\n",
    "\n",
    "To begin, let us look at one of the most basic models in epidemiology: The SIR model. The SIR model contains three parameters:\n",
    "     \n",
    "S(t) = the number of susceptible individuals in a population\n",
    "I(t) = the number of infected individuals in a population\n",
    "R(t) = the number of recoved individuals in a population\n",
    "\n",
    "In order to draw up some ODEs to work with, let us make some assumptions regarding these parameters:\n",
    "\n",
    "1. Assume that the population is closed, such that there are no births, deaths, and there is no migration. The birth and death rate can be reasonably neglected in this model because we are assuming that the disease has a far shorter lifespan than a human.\n",
    "\n",
    "2. Assume that a recovered individual has complete immunity from the disease. In other words, only susceptible people are at risk of becoming infected.\n",
    "\n",
    "\n",
    "We also note that due to the closed nature of the population, that:\n",
    "\n",
    "$S(t) + I(t) + R(t) = N (=1)$\n",
    "\n",
    "where we set $N=1$ such that we are looking at the proportions of the population rather than the absolute figures.\n",
    "\n",
    "\n",
    "Let us consider the ODE for suspectibility:\n",
    "\n",
    "$\\frac{dS}{dt} = - \\frac{\\beta S(t)I(t)}{N}$\n",
    "\n",
    "This follows naturally from a number of logical observations, notably:\n",
    "\n",
    "1. The number of susceptible people should decrease over time, thus the equation is negative.\n",
    "\n",
    "2. We assume that the rate of change is dependent on the number of susceptible people and the number of infected people. More specifically, we anticipate that the greater the number of the infected, the more contact there is between the infected and the susceptible, and thus the greater the rate of change. Additionally, this logic of increased contact holds for the number of susceptible people too.\n",
    "\n",
    "What then, is $\\beta$? $\\beta$ is clearly some measure of the contact between the infected and the susceptible. One could envision it as a measure of the number of disease transmission between these two groups; the more infective the disease is, the higher $\\beta$ is.\n",
    "\n",
    "\n",
    "Let us look next at the recovery equation:\n",
    "\n",
    "$\\frac{dR}{dt} = \\gamma I(t)$\n",
    "\n",
    "This is also fairly intuitive to work out: The rate of change of the number of recovered people is dependent on the number of the infected, by some factor of recovery $\\gamma$. If there are more infected people, we would expect the number of recovered people per unit time to increase with it. If the recovery rate $\\gamma$ is higher, then the rate of change would again be higher.\n",
    "\n",
    "Finally, to derive the infected equation, simply note that:\n",
    "\n",
    "$\\frac{dS}{dt} + \\frac{dI}{dt} + \\frac{dR}{dt} = 0$\n",
    "\n",
    "\n",
    "This yields:\n",
    "\n",
    "$\\frac{dI}{dt} = \\frac{\\beta S(t)I(t)}{N} - \\gamma I(t)$\n",
    "\n",
    "\n",
    "The equations in the SIR model are then as follows:\n",
    "\n",
    "$\\frac{dS}{dt} = -\\beta S(t)I(t)$\n",
    "\n",
    "$\\frac{dI}{dt} = \\beta S(t)I(t) - \\gamma I(t)$\n",
    "\n",
    "$\\frac{dR}{dt} = \\gamma I(t)$\n",
    "\n",
    "Where $N = 1$\n",
    "\n",
    "Let us proceed by modelling these equations in Python and playing around with some of the initial conditions. Then, we can continue to think about what these values represent."
   ]
  },
  {
   "cell_type": "code",
   "execution_count": 1,
   "metadata": {},
   "outputs": [],
   "source": [
    "import numpy as np\n",
    "import matplotlib.pyplot as plt\n",
    "import scipy.integrate\n",
    "from scipy import integrate\n",
    "from matplotlib.widgets import Slider, Button, RadioButtons"
   ]
  },
  {
   "cell_type": "code",
   "execution_count": 2,
   "metadata": {},
   "outputs": [],
   "source": [
    "def SIR(y, t, beta, gamma):\n",
    "    S, I, R = y\n",
    "    \n",
    "    dS_dt = -beta * S * I\n",
    "    dI_dt = beta * S * I - gamma*I\n",
    "    dR_dt = gamma * I\n",
    "    \n",
    "    return [dS_dt, dI_dt, dR_dt]"
   ]
  },
  {
   "cell_type": "code",
   "execution_count": 3,
   "metadata": {
    "scrolled": true
   },
   "outputs": [
    {
     "data": {
      "image/png": "[encoded data removed]",
      "text/plain": [
       "<Figure size 432x288 with 3 Axes>"
      ]
     },
     "metadata": {},
     "output_type": "display_data"
    }
   ],
   "source": [
    "# initial conditions:\n",
    "S0 = 0.9\n",
    "I0 = 0.1\n",
    "R0 = 0.0\n",
    "beta = 0.2\n",
    "gamma = 0.1\n",
    "\n",
    "t = np.linspace(0,100,10000)\n",
    "\n",
    "fig, ax = plt.subplots()\n",
    "plt.subplots_adjust(left=0.25, bottom=0.25)\n",
    "\n",
    "l1, l2, l3 = plt.plot(t, integrate.odeint(SIR, [S0, I0, R0], t, args=(beta, gamma)), label=('S0', 'I0', 'R0'))\n",
    "#solution = np.array(solution)\n",
    "\n",
    "axcolor = 'black'\n",
    "ax_b = plt.axes([0.25, 0.1, 0.65, 0.03], facecolor=axcolor)\n",
    "ax_g = plt.axes([0.25, 0.15, 0.65, 0.03], facecolor=axcolor)\n",
    "\n",
    "sa = Slider(ax_b, 'beta', 0.01, 1, valinit=beta)\n",
    "sc = Slider(ax_g, 'gamma', 0.01, 1, valinit=gamma)\n",
    "\n",
    "\n",
    "def update(val):\n",
    "    beta = sa.val\n",
    "    gamma = sc.val\n",
    "    y = integrate.odeint(SIR, [S0,I0,R0], t, (beta, gamma))\n",
    "    l1.set_ydata(y[:,0])\n",
    "    l2.set_ydata(y[:,1])\n",
    "    l3.set_ydata(y[:,2])\n",
    "    fig.canvas.draw_idle()\n",
    "\n",
    "sa.on_changed(update)\n",
    "sc.on_changed(update)\n",
    "#plt.legend()\n",
    "ax.set(xlabel='time', ylabel='Proportion')\n",
    "plt.show()"
   ]
  },
  {
   "cell_type": "markdown",
   "metadata": {},
   "source": [
    "Let us continue by thinking about $\\beta$ and $\\gamma$, for they are highly useful in epidemiology.\n",
    "\n",
    "Specifically, we can define a quantity $R_0$ as:\n",
    "\n",
    "$R_0 = \\frac{\\beta}{\\gamma}$\n",
    "\n",
    "where $R_0$ is defined as the basic reproduction number; the average number of individuals infected from one other person. If $\\beta$, the measure of how contagious the disease is, increases, then one person will infect more people, and $R_0$ increases. If $\\gamma$, the measure of recovery, increases, then an infected person will recover in fewer days and will infect fewer people, and $R_0$ goes down.\n",
    "\n",
    "For reference, here are some $R_0$ values of some infamous diseases:\n",
    "\n",
    "Measles: $R_0$ = 12-18 (highest known $R_0$)\n",
    "HIV: $R_0$ = 2-5\n",
    "COVID-19: $R_0$ = 1.4-3.9 (calculated in Feb 2020)\n",
    "\n",
    "Note that the parameters $\\beta$ and $\\gamma$ are fixed for a particular disease, and thus $R_0$ is specific to a disease. It has no dependence on any other factors, such as the number of people immune to the disease. As such, we assume that $R_0$ is a measure of the number of people who would be infected by one other person in a population with absolutely no herd immunity. However, the parameters $\\beta$ and $\\gamma$ can be affected by other parameters, such as the climate.\n",
    "\n",
    "From $R_0$ then, we can calculate the Herd Immune Threshold as follows:\n",
    "\n",
    "$R_0(1-p) = 1$\n",
    "\n",
    "$p_c = 1 - \\frac{1}{R_0}$\n",
    "\n",
    "where $p_c$ is the HIT required to stop the spread of a disease."
   ]
  },
  {
   "cell_type": "markdown",
   "metadata": {},
   "source": [
    "Let us continue to expand upon the SIR model by considering what the ODEs would look like with an open population, with a birth rate $\\mu$ and a death rate $\\nu$. Let us assume that:\n",
    "\n",
    "1. The population, N, remains constant. More specifically, let us assume the specific case that $\\mu = \\nu$ and there is no migration.\n",
    "\n",
    "2. All newborns are susceptible. There is no vertical transfer of immunity from mother to foetus.\n",
    "\n",
    "The equations are as follows:\n",
    "\n",
    "$\\frac{dS}{dt} = -\\frac{\\beta S(t)I(t)}{N} + \\mu N - \\nu S(t)$\n",
    "\n",
    "$\\frac{dI}{dt} = \\beta S(t)I(t) - \\gamma I(t) - \\nu I(t)$\n",
    "\n",
    "$\\frac{dR}{dt} = \\gamma I(t) - \\nu R(t)$\n",
    "\n",
    "In this case, the number of new individuals born per unit time is equal to the population N multiplied by the birth rate $\\mu$, and all newborns are susceptible as per the assumption above. Thus this represents an addition to the $\\frac{dS}{dt}$ term. The death rate, however, affects all groups, and so is a subtraction from all equations."
   ]
  },
  {
   "cell_type": "markdown",
   "metadata": {},
   "source": [
    "Before we move on to analyse numerous variants of the SIR model, consider this: There are certain infections which for various reasons do not confer immunity. A classic example is influenza due to its rapid evolution. As such, the above SIR model clearly doesn't hold. Instead, we require a new model called the SIS model.\n",
    "\n",
    "The SIS model is even simpler than the above SIR model, as individuals oscillate between the states of suspectible and infected. As such, the ODEs boil down to two relatively simple equations:\n",
    "\n",
    "$\\frac{dS}{dt} = -\\frac{\\beta S(t)I(t)}{N} + \\alpha I(t)$\n",
    "\n",
    "$\\frac{dI}{dt} = \\frac{\\beta S(t)I(t)}{N} - \\alpha I(t)$\n",
    "\n",
    "To understand this, consider the first equation:\n",
    "\n",
    "An average person will infect $\\beta$N others per unit t, and the probability that a person is suspectible is $\\frac{S}{N}$. From this, one infected person causes $ \\frac{\\beta S N}{N} = \\beta S$ per unit time, so in total there are $\\beta S I$ infections per unit time. Meanwhile, if $\\alpha$ is defined as the fraction of infected individuals who recover per unit time, then $\\alpha I$ represents the addition to the number of susceptible people per unit time. From that, we have the first equation, noting that the first part is negative because infections led to a decrease in the susceptible population. Likewise, we can derive the second equation using the same logic.\n"
   ]
  },
  {
   "cell_type": "code",
   "execution_count": 4,
   "metadata": {},
   "outputs": [],
   "source": [
    "def SIS(y, t, beta, alpha):\n",
    "    S, I = y\n",
    "    \n",
    "    dS_dt = -beta * S * I + alpha*I\n",
    "    dI_dt = beta * S * I - alpha*I\n",
    "    \n",
    "    return [dS_dt, dI_dt]"
   ]
  },
  {
   "cell_type": "code",
   "execution_count": 5,
   "metadata": {},
   "outputs": [
    {
     "name": "stderr",
     "output_type": "stream",
     "text": [
      "No handles with labels found to put in legend.\n"
     ]
    },
    {
     "data": {
      "image/png": "[encoded data removed]",
      "text/plain": [
       "<Figure size 432x288 with 3 Axes>"
      ]
     },
     "metadata": {},
     "output_type": "display_data"
    }
   ],
   "source": [
    "# initial conditions:\n",
    "S0 = 0.9\n",
    "I0 = 0.1\n",
    "beta = 0.2\n",
    "alpha = 0.1\n",
    "\n",
    "t = np.linspace(0,100,10000)\n",
    "\n",
    "fig, ax = plt.subplots()\n",
    "plt.subplots_adjust(left=0.25, bottom=0.25)\n",
    "\n",
    "l1, l2 = plt.plot(t, integrate.odeint(SIS, [S0, I0], t, args=(beta, alpha)))\n",
    "#solution = np.array(solution)\n",
    "\n",
    "axcolor = 'black'\n",
    "ax_b = plt.axes([0.25, 0.1, 0.65, 0.03], facecolor=axcolor)\n",
    "ax_a = plt.axes([0.25, 0.15, 0.65, 0.03], facecolor=axcolor)\n",
    "\n",
    "sa = Slider(ax_b, 'beta', 0.01, 1, valinit=beta)\n",
    "sc = Slider(ax_a, 'alpha', 0.01, 1, valinit=alpha)\n",
    "\n",
    "def update(val):\n",
    "    beta = sa.val\n",
    "    alpha = sc.val\n",
    "    y = integrate.odeint(SIS, [S0,I0], t, (beta, alpha))\n",
    "    l1.set_ydata(y[:,0])\n",
    "    l2.set_ydata(y[:,1])\n",
    "    fig.canvas.draw_idle()\n",
    "\n",
    "sa.on_changed(update)\n",
    "sc.on_changed(update)\n",
    "plt.legend()\n",
    "plt.show()"
   ]
  },
  {
   "cell_type": "markdown",
   "metadata": {},
   "source": [
    "We can of course generate an SIS model with an open population by the same logic as before. The equations are:\n",
    "\n",
    "$\\frac{dS}{dt} = -\\frac{\\beta S(t)I(t)}{N} + \\gamma I(t) + \\mu N - \\nu S(t) $\n",
    "\n",
    "$\\frac{dI}{dt} = \\frac{\\beta S(t)I(t)}{N} - \\gamma I(t) - \\nu I(t)$\n"
   ]
  },
  {
   "cell_type": "markdown",
   "metadata": {},
   "source": [
    "There is an even simpler model of the SIS model: the SI model. In the SI model, individuals are either susceptible, or they are infected. Once infected, people remain infected; there is no transfer back to being susceptible. Whilst this model may seen simplistic to the point of absurdity, it does model diseases such as the various forms of herpes.\n",
    "\n",
    "\n",
    "\n",
    "\n",
    "The equations for a closed population are:\n",
    "\n",
    "\n",
    "\n",
    "\n",
    "The equations for an open population are:\n",
    "\n"
   ]
  },
  {
   "cell_type": "code",
   "execution_count": null,
   "metadata": {},
   "outputs": [],
   "source": []
  },
  {
   "cell_type": "markdown",
   "metadata": {},
   "source": [
    "With the SIS model considered, let us look at some further modifications to the SIR model.\n",
    "\n",
    "The SEIR model:\n",
    "\n",
    "The SEIR model is an extension of the SIR model which includes a transitionary 'Exposed' stage: a period in which an individual has caught a disease, but is not yet infecting others. Classic examples of this is varicella (chicken pox) which has an incubation period of around 14-16 days, salmonella at 12-24 days, and mono at 28-42 days.\n",
    "\n",
    "\n",
    "\n",
    "For a closed population, the equations are as follows:\n",
    "\n",
    "$\\frac{dS}{dt} = -\\frac{\\beta SI}{N}$\n",
    "\n",
    "$\\frac{dE}{dt} = \\frac{\\beta SI}{N} - \\sigma E$\n",
    "\n",
    "$\\frac{dI}{dt} = \\sigma E - \\gamma I$\n",
    "\n",
    "$\\frac{dR}{dt} = \\gamma I$"
   ]
  },
  {
   "cell_type": "code",
   "execution_count": 6,
   "metadata": {},
   "outputs": [],
   "source": [
    "def SEIR(y, t, beta, gamma, sigma):\n",
    "    S, E, I, R = y\n",
    "    \n",
    "    dS_dt = -beta * S * I\n",
    "    dE_dt = beta * S * I - sigma*E\n",
    "    dI_dt = beta * S * I - gamma*I\n",
    "    dR_dt = gamma * I\n",
    "    \n",
    "    return [dS_dt, dE_dt, dI_dt, dR_dt]"
   ]
  },
  {
   "cell_type": "code",
   "execution_count": 7,
   "metadata": {},
   "outputs": [
    {
     "name": "stderr",
     "output_type": "stream",
     "text": [
      "/home/sam/anaconda3/lib/python3.6/site-packages/matplotlib/cbook/deprecation.py:107: MatplotlibDeprecationWarning: Adding an axes using the same arguments as a previous axes currently reuses the earlier instance.  In a future version, a new instance will always be created and returned.  Meanwhile, this warning can be suppressed, and the future behavior ensured, by passing a unique label to each axes instance.\n",
      "  warnings.warn(message, mplDeprecation, stacklevel=1)\n",
      "No handles with labels found to put in legend.\n"
     ]
    },
    {
     "data": {
      "image/png": "[encoded data removed]",
      "text/plain": [
       "<Figure size 432x288 with 3 Axes>"
      ]
     },
     "metadata": {},
     "output_type": "display_data"
    }
   ],
   "source": [
    "# initial conditions:\n",
    "S0 = 0.9\n",
    "E0 = 0.05\n",
    "I0 = 0.05\n",
    "R0 = 0.0\n",
    "beta = 0.2\n",
    "gamma = 0.1\n",
    "sigma = 0.1\n",
    "\n",
    "t = np.linspace(0,100,10000)\n",
    "\n",
    "fig, ax = plt.subplots()\n",
    "plt.subplots_adjust(left=0.25, bottom=0.25)\n",
    "\n",
    "l1, l2, l3, l4 = plt.plot(t, integrate.odeint(SEIR, [S0, E0, I0, R0], t, args=(beta, gamma, sigma)), label=('S0', 'I0', 'R0'))\n",
    "#solution = np.array(solution)\n",
    "\n",
    "axcolor = 'black'\n",
    "ax_b = plt.axes([0.25, 0.1, 0.65, 0.03], facecolor=axcolor)\n",
    "ax_g = plt.axes([0.25, 0.15, 0.65, 0.03], facecolor=axcolor)\n",
    "ax_s = plt.axes([0.25, 0.15, 0.65, 0.03], facecolor=axcolor)\n",
    "\n",
    "\n",
    "sb = Slider(ax_b, 'beta', 0.01, 1, valinit=beta)\n",
    "sg = Slider(ax_g, 'gamma', 0.01, 1, valinit=gamma)\n",
    "ss = Slider(ax_s, 'sigma', 0.01, 1, valinit=sigma)\n",
    "\n",
    "\n",
    "def update(val):\n",
    "    beta = sb.val\n",
    "    gamma = sg.val\n",
    "    y = integrate.odeint(SIR, [S0,I0,R0], t, (beta, gamma))\n",
    "    l1.set_ydata(y[:,0])\n",
    "    l2.set_ydata(y[:,1])\n",
    "    l3.set_ydata(y[:,2])\n",
    "    l4.set_ydata(y[:,3])\n",
    "    fig.canvas.draw_idle()\n",
    "\n",
    "sa.on_changed(update)\n",
    "sc.on_changed(update)\n",
    "plt.legend()\n",
    "plt.show()"
   ]
  },
  {
   "cell_type": "code",
   "execution_count": null,
   "metadata": {},
   "outputs": [],
   "source": [
    "def SEIR_open(y, t, beta, gamma, sigma):\n",
    "    S, E, I, R = y\n",
    "    \n",
    "    dS_dt = -beta * S * I\n",
    "    dE_dt = beta * S * I - sigma*E\n",
    "    dI_dt = beta * S * I - gamma*I\n",
    "    dR_dt = gamma * I\n",
    "    \n",
    "    return [dS_dt, dE_dt, dI_dt, dR_dt]"
   ]
  },
  {
   "cell_type": "markdown",
   "metadata": {},
   "source": [
    "Now let us expand this to an open population. Again, we assume that $\\mu = \\nu$, and so on.\n",
    "\n",
    "For an open population, the equations are as follows:\n",
    "\n",
    "$\\frac{dS}{dt} = -\\frac{\\beta SI}{N} + \\mu N - \\nu S$\n",
    "\n",
    "$\\frac{dE}{dt} = \\frac{\\beta SI}{N} - \\sigma E - \\nu E$\n",
    "\n",
    "$\\frac{dI}{dt} = \\sigma E - \\gamma I - \\nu I$\n",
    "\n",
    "$\\frac{dR}{dt} = \\gamma I - \\nu R$"
   ]
  },
  {
   "cell_type": "markdown",
   "metadata": {},
   "source": [
    "Let us continue to increase the complexity of our model by extending it to the SEIRS model. In the SEIR model (and the SIR and SIS models), we assume that once an infected person has recovered from a disease, that they acquire immunity for the rest of their life. In other words, we assume that a recovered person doesn't ever become susceptible again. This is of course not true for many diseases, such as typhoid.\n",
    "\n",
    "In the SEIRS model, then, the extra S also stands for susceptible, and we must add extra terms to our model:\n",
    "\n",
    "In a closed population:\n",
    "\n",
    "$\\frac{dS}{dt} = -\\frac{\\beta SI}{N} + \\xi R$\n",
    "\n",
    "$\\frac{dE}{dt} = \\frac{\\beta SI}{N} - \\sigma E$\n",
    "\n",
    "$\\frac{dI}{dt} = \\sigma E - \\gamma I$\n",
    "\n",
    "$\\frac{dR}{dt} = \\gamma I - \\xi R$\n",
    "\n",
    "\n",
    "For an open population:\n",
    "\n",
    "$\\frac{dS}{dt} = -\\frac{\\beta SI}{N} + \\xi R + \\mu N - \\nu S $\n",
    "\n",
    "$\\frac{dE}{dt} = \\frac{\\beta SI}{N} - \\sigma E - \\nu E$\n",
    "\n",
    "$\\frac{dI}{dt} = \\sigma E - \\gamma I - \\nu I$\n",
    "\n",
    "$\\frac{dR}{dt} = \\gamma I - \\xi R - \\nu R$\n"
   ]
  },
  {
   "cell_type": "markdown",
   "metadata": {},
   "source": [
    "Now let's take a step backwards. There are many diseases in which a form of short-term maternal immunity is provided. This is due to passive immunity, where the mother's antibodies are passed to the foetus. A classic example of this is measles.\n",
    "\n",
    "From this, let's consider the MSIR model:\n",
    "\n",
    "$\\frac{dM}{dT} = \\Lambda - \\delta M - \\mu M$\n",
    "\n",
    "$\\frac{dS}{dT} = \\delta M - \\frac{\\beta SI}{N} - \\mu S$\n",
    "\n",
    "$\\frac{dS}{dT} = \\frac{\\beta SI}{N} - \\gamma I - \\mu I$\n",
    "\n",
    "$\\frac{dS}{dT} = \\gamma I - \\mu R$"
   ]
  },
  {
   "cell_type": "code",
   "execution_count": null,
   "metadata": {},
   "outputs": [],
   "source": []
  }
 ],
 "metadata": {
  "kernelspec": {
   "display_name": "Python 3",
   "language": "python",
   "name": "python3"
  },
  "language_info": {
   "codemirror_mode": {
    "name": "ipython",
    "version": 3
   },
   "file_extension": ".py",
   "mimetype": "text/x-python",
   "name": "python",
   "nbconvert_exporter": "python",
   "pygments_lexer": "ipython3",
   "version": "3.6.5"
  }
 },
 "nbformat": 4,
 "nbformat_minor": 4
}
